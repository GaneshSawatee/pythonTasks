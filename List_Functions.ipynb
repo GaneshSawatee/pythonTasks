{
 "cells": [
  {
   "cell_type": "markdown",
   "id": "c11dd0f8-5b94-433d-8b8e-4a3b618533c2",
   "metadata": {},
   "source": [
    "# List"
   ]
  },
  {
   "cell_type": "markdown",
   "id": "e3cd46d9-3a0c-482e-be23-2f42cd31c67a",
   "metadata": {},
   "source": [
    "* list is use to store multiple values in a single variable. A list allows duplicate values, list contains multiple data types, and changeable "
   ]
  },
  {
   "cell_type": "code",
   "execution_count": 1,
   "id": "bf977d1f-b841-4d80-b5cb-ddf1768ee5bd",
   "metadata": {},
   "outputs": [
    {
     "name": "stdout",
     "output_type": "stream",
     "text": [
      "[10, 20, 30, 40, 50]\n"
     ]
    }
   ],
   "source": [
    "my_list = [10,20,30,40,50]\n",
    "print(my_list)"
   ]
  },
  {
   "cell_type": "markdown",
   "id": "8d22c1aa-af54-4a6d-9e92-f42d742e024b",
   "metadata": {},
   "source": [
    "# List functions"
   ]
  },
  {
   "cell_type": "markdown",
   "id": "9ba81560-49bb-4251-8dac-4b06624b7158",
   "metadata": {},
   "source": [
    "## Append"
   ]
  },
  {
   "cell_type": "markdown",
   "id": "db513ab8-3f72-43f1-9eb9-141371d8b6ce",
   "metadata": {},
   "source": [
    "* The append() method adds an element to the end of the list."
   ]
  },
  {
   "cell_type": "code",
   "execution_count": 17,
   "id": "29cc98c6-99e2-41dc-9eb4-cb271a1eb234",
   "metadata": {},
   "outputs": [
    {
     "name": "stdout",
     "output_type": "stream",
     "text": [
      "[23, 45, 7, 6, 78, 43, 64]\n"
     ]
    }
   ],
   "source": [
    "Numbers = [23,45,7,6,78,43,64]\n",
    "print(Numbers)"
   ]
  },
  {
   "cell_type": "code",
   "execution_count": 18,
   "id": "63d3ced1-b171-44d9-9c09-5463486bebed",
   "metadata": {},
   "outputs": [
    {
     "name": "stdout",
     "output_type": "stream",
     "text": [
      "[23, 45, 7, 6, 78, 43, 64, 10000]\n"
     ]
    }
   ],
   "source": [
    "Numbers.append(10000)\n",
    "print(Numbers)"
   ]
  },
  {
   "cell_type": "markdown",
   "id": "a5836b29-6c5a-4d51-9c4c-64c83bc79d2b",
   "metadata": {},
   "source": [
    "## insert"
   ]
  },
  {
   "cell_type": "markdown",
   "id": "7a5c7e54-a416-4ba4-b1b9-ec0e584739d9",
   "metadata": {},
   "source": [
    "* Insert function is used to insert items in specific index in the list"
   ]
  },
  {
   "cell_type": "code",
   "execution_count": 1,
   "id": "e082c1fe-af63-4133-a981-b91ee8f92c85",
   "metadata": {},
   "outputs": [
    {
     "name": "stdout",
     "output_type": "stream",
     "text": [
      "['c', 'c++', 'python', 'java', 'R']\n"
     ]
    }
   ],
   "source": [
    "course = ['c', 'c++', 'python', 'java', 'R']\n",
    "print(course)"
   ]
  },
  {
   "cell_type": "code",
   "execution_count": 3,
   "id": "df9ce1e6-91b5-407e-8028-f5c212f5976d",
   "metadata": {},
   "outputs": [
    {
     "name": "stdout",
     "output_type": "stream",
     "text": [
      "['c', 'c++', 'python', 'android devloper', 'java', 'R']\n"
     ]
    }
   ],
   "source": [
    "course.insert(3, 'android devloper')\n",
    "print(course)"
   ]
  },
  {
   "cell_type": "markdown",
   "id": "686aacbf-7eff-4a32-bd25-c6b6753b7c64",
   "metadata": {},
   "source": [
    "## Update"
   ]
  },
  {
   "cell_type": "markdown",
   "id": "b6ce4620-ca48-4888-8dd7-cc00e0003fc1",
   "metadata": {},
   "source": [
    "* Update (change) a list element at the specified index."
   ]
  },
  {
   "cell_type": "code",
   "execution_count": 4,
   "id": "73bd231a-c737-40b9-8b98-088e4ce491e2",
   "metadata": {},
   "outputs": [
    {
     "name": "stdout",
     "output_type": "stream",
     "text": [
      "['c', 'fullstack dev', 'python', 'android devloper', 'java', 'R']\n"
     ]
    }
   ],
   "source": [
    "course[1] = 'fullstack dev'\n",
    "print(course)"
   ]
  },
  {
   "cell_type": "markdown",
   "id": "1863a162-3f5b-41e1-8d3c-77b50823fc46",
   "metadata": {},
   "source": [
    "## Delete"
   ]
  },
  {
   "cell_type": "markdown",
   "id": "4905e361-a015-4343-b282-267b34a3d00d",
   "metadata": {},
   "source": [
    "* The delete() method delete elements from the specified index.\n",
    "\n"
   ]
  },
  {
   "cell_type": "code",
   "execution_count": 6,
   "id": "78a71825-09d2-4192-94bf-2c49307f721c",
   "metadata": {},
   "outputs": [
    {
     "name": "stdout",
     "output_type": "stream",
     "text": [
      "['fullstack dev', 'python', 'android devloper', 'java', 'R']\n"
     ]
    }
   ],
   "source": [
    "del course[0]\n",
    "print(course)"
   ]
  },
  {
   "cell_type": "markdown",
   "id": "4cc4379c-bb62-4b8a-935e-9dafb533226f",
   "metadata": {},
   "source": [
    "## Remove"
   ]
  },
  {
   "cell_type": "markdown",
   "id": "44ae3f3b-68f1-4ed8-9aa0-557ef0494dc3",
   "metadata": {},
   "source": [
    "* The remove() method removes the specified item in the lists.\n",
    "\n"
   ]
  },
  {
   "cell_type": "code",
   "execution_count": 7,
   "id": "7136deb3-ee4b-4265-a7d7-11e05c18296f",
   "metadata": {},
   "outputs": [
    {
     "name": "stdout",
     "output_type": "stream",
     "text": [
      "['fullstack dev', 'python', 'android devloper', 'java']\n"
     ]
    }
   ],
   "source": [
    "course.remove('R')\n",
    "print(course)"
   ]
  },
  {
   "cell_type": "markdown",
   "id": "d5633b91-c267-4622-a10e-0c6579dcec09",
   "metadata": {},
   "source": [
    "## Pop"
   ]
  },
  {
   "cell_type": "markdown",
   "id": "cde596fe-6e78-4f70-b07f-29960b032d68",
   "metadata": {},
   "source": [
    "* The pop() method remove the element. It takes a single argument (index)."
   ]
  },
  {
   "cell_type": "code",
   "execution_count": 9,
   "id": "fcb6ceb0-79a5-45a3-8a8d-7ae1a883d663",
   "metadata": {},
   "outputs": [
    {
     "name": "stdout",
     "output_type": "stream",
     "text": [
      "['fullstack dev', 'python', 'java']\n"
     ]
    }
   ],
   "source": [
    "course.pop(2)\n",
    "print(course)"
   ]
  },
  {
   "cell_type": "markdown",
   "id": "e8f2b711-1d7a-435f-b7cf-2d6a42f03157",
   "metadata": {},
   "source": [
    "## Clear"
   ]
  },
  {
   "cell_type": "markdown",
   "id": "f8a7fed4-7003-4e58-a192-06b2b4781b20",
   "metadata": {},
   "source": [
    "* The clear() method removes all the elements from the list.\n",
    "\n"
   ]
  },
  {
   "cell_type": "code",
   "execution_count": 10,
   "id": "e57a41dc-cabe-42b7-a38d-b339f15429b9",
   "metadata": {},
   "outputs": [
    {
     "name": "stdout",
     "output_type": "stream",
     "text": [
      "[]\n"
     ]
    }
   ],
   "source": [
    "course.clear()\n",
    "print(course)"
   ]
  },
  {
   "cell_type": "markdown",
   "id": "893c9017-34fd-4d8f-9168-b60f661abc0f",
   "metadata": {},
   "source": [
    "## Ascending Order"
   ]
  },
  {
   "cell_type": "code",
   "execution_count": 12,
   "id": "e1b8f9fc-614a-4988-9893-9d1019b990bf",
   "metadata": {},
   "outputs": [
    {
     "name": "stdout",
     "output_type": "stream",
     "text": [
      "['A', 'E', 'G', 'U', 'B', 'D', 'W', 'Z', 'H', 'V']\n"
     ]
    }
   ],
   "source": [
    "Alphabets = ['A','E','G','U','B','D','W','Z','H','V']\n",
    "print(Alphabets)"
   ]
  },
  {
   "cell_type": "code",
   "execution_count": 13,
   "id": "9585fca4-3cc8-4932-97d5-1d6c1285ce9d",
   "metadata": {},
   "outputs": [
    {
     "name": "stdout",
     "output_type": "stream",
     "text": [
      "['A', 'B', 'D', 'E', 'G', 'H', 'U', 'V', 'W', 'Z']\n"
     ]
    }
   ],
   "source": [
    "Alphabets.sort()\n",
    "print(Alphabets)"
   ]
  },
  {
   "cell_type": "markdown",
   "id": "5df5fc2f-aa53-4900-b1a6-b56c9ab88e27",
   "metadata": {},
   "source": [
    "## Decending Order"
   ]
  },
  {
   "cell_type": "code",
   "execution_count": 14,
   "id": "d2cea6ee-3e41-498e-b943-facfd4474816",
   "metadata": {},
   "outputs": [
    {
     "name": "stdout",
     "output_type": "stream",
     "text": [
      "['Z', 'W', 'V', 'U', 'H', 'G', 'E', 'D', 'B', 'A']\n"
     ]
    }
   ],
   "source": [
    "Alphabets.sort(reverse = True)\n",
    "print(Alphabets)"
   ]
  },
  {
   "cell_type": "code",
   "execution_count": null,
   "id": "d899f0f0-0b16-408b-b3ce-7f15fc702785",
   "metadata": {},
   "outputs": [],
   "source": []
  }
 ],
 "metadata": {
  "kernelspec": {
   "display_name": "Python 3 (ipykernel)",
   "language": "python",
   "name": "python3"
  },
  "language_info": {
   "codemirror_mode": {
    "name": "ipython",
    "version": 3
   },
   "file_extension": ".py",
   "mimetype": "text/x-python",
   "name": "python",
   "nbconvert_exporter": "python",
   "pygments_lexer": "ipython3",
   "version": "3.11.7"
  }
 },
 "nbformat": 4,
 "nbformat_minor": 5
}
