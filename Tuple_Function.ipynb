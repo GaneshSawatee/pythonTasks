{
 "cells": [
  {
   "cell_type": "markdown",
   "id": "9c75fa37-fc1b-40ad-abe2-b9ccad69a605",
   "metadata": {},
   "source": [
    "# Tuple"
   ]
  },
  {
   "cell_type": "markdown",
   "id": "563f7a20-d466-4094-905c-b7616f26dd88",
   "metadata": {},
   "source": [
    "* Tuples are used to store multiple values in a single variable. Tuples can be written in round brackets ()."
   ]
  },
  {
   "cell_type": "code",
   "execution_count": 1,
   "id": "be827c77-94d1-43d1-be6b-cdc2e583648f",
   "metadata": {},
   "outputs": [
    {
     "name": "stdout",
     "output_type": "stream",
     "text": [
      "('Apple', 'Banana', 'Grapes', 'Orange')\n"
     ]
    }
   ],
   "source": [
    "myBasket = ('Apple','Banana','Grapes','Orange')\n",
    "print(myBasket)"
   ]
  },
  {
   "cell_type": "markdown",
   "id": "b4665f30-463a-428a-b8d9-f85e724dcf1b",
   "metadata": {},
   "source": [
    "* Properties Of Tuple :-\n",
    "Ordered : Tuples are an ordered sequences of items, just like lists.\n",
    "\n",
    "Unchangeable : Tuples are unchangeable, meaning that we cannot change, add or remove items after the tuple has been created.\n",
    "\n",
    "Allow Duplicates : Tuples are indexed, they can have items with the same value. It contains duplicates items."
   ]
  },
  {
   "cell_type": "markdown",
   "id": "c5975b25-6ae4-4e87-adeb-c15e74f97b36",
   "metadata": {},
   "source": [
    "## Count"
   ]
  },
  {
   "cell_type": "markdown",
   "id": "04ba67a2-e46c-4d3e-8189-a582c912f3d0",
   "metadata": {},
   "source": [
    "* The count() method returns the number of times the specified element appears in the list."
   ]
  },
  {
   "cell_type": "code",
   "execution_count": 5,
   "id": "d460ecef-aa97-4f97-aec7-fe314fdd67ab",
   "metadata": {},
   "outputs": [
    {
     "name": "stdout",
     "output_type": "stream",
     "text": [
      "2\n"
     ]
    }
   ],
   "source": [
    "myBasket = ('Apple','Banana','Grapes','Orange', 'Banana')\n",
    "print(myBasket.count('Banana'))"
   ]
  },
  {
   "cell_type": "code",
   "execution_count": 6,
   "id": "4ebb81ed-1dfd-4c2f-a244-3042aed29535",
   "metadata": {},
   "outputs": [
    {
     "name": "stdout",
     "output_type": "stream",
     "text": [
      "('a', 'b', 'c', 'd')\n"
     ]
    },
    {
     "data": {
      "text/plain": [
       "tuple"
      ]
     },
     "execution_count": 6,
     "metadata": {},
     "output_type": "execute_result"
    }
   ],
   "source": [
    "t1 = ('a','b','c','d')\n",
    "print(t1)\n",
    "type(t1)"
   ]
  },
  {
   "cell_type": "markdown",
   "id": "e3d39546-8925-4dc3-b6c6-187e3b9c3d62",
   "metadata": {},
   "source": [
    "## Add"
   ]
  },
  {
   "cell_type": "markdown",
   "id": "ad3e8a76-e441-45e9-9dac-f8a46128aa6e",
   "metadata": {},
   "source": [
    "* The add fuction is used to add to or more element of tuple"
   ]
  },
  {
   "cell_type": "code",
   "execution_count": 7,
   "id": "891b3246-7b6f-4edf-8fc8-c3206f1d559e",
   "metadata": {},
   "outputs": [
    {
     "name": "stdout",
     "output_type": "stream",
     "text": [
      "(1, 2, 3, 4, 5, 'ganesh', 'anil', 'pravin', 'golu')\n"
     ]
    }
   ],
   "source": [
    "T1 = (1,2,3,4,5)\n",
    "T2 = ('ganesh', 'anil', 'pravin', 'golu')\n",
    "print(T1+T2)"
   ]
  },
  {
   "cell_type": "markdown",
   "id": "ec3fb7d4-2241-4a8a-863f-1f87a057bfe3",
   "metadata": {},
   "source": [
    "## Mul(*)"
   ]
  },
  {
   "cell_type": "markdown",
   "id": "06b8f038-8a15-4cc1-ad41-2d016770f71c",
   "metadata": {},
   "source": [
    "* The mul function is used to multiple the element of tuple"
   ]
  },
  {
   "cell_type": "code",
   "execution_count": 8,
   "id": "617c909b-ef85-4faa-a791-39c9f955d986",
   "metadata": {},
   "outputs": [
    {
     "name": "stdout",
     "output_type": "stream",
     "text": [
      "144\n"
     ]
    }
   ],
   "source": [
    "T3 = (4*6*2*3)\n",
    "print(T3)"
   ]
  },
  {
   "cell_type": "markdown",
   "id": "c0a8f365-f8b8-488a-869f-7265d9141234",
   "metadata": {},
   "source": [
    "## len"
   ]
  },
  {
   "cell_type": "markdown",
   "id": "feb14cc5-8fba-4066-99e5-26f0f1500424",
   "metadata": {},
   "source": [
    "* The len fucntion is use to detemine the lenght of element of tuple"
   ]
  },
  {
   "cell_type": "code",
   "execution_count": 9,
   "id": "c04124d6-5ebe-450a-b79b-699e45797e35",
   "metadata": {},
   "outputs": [
    {
     "name": "stdout",
     "output_type": "stream",
     "text": [
      "(1, 2, 3, 4, 5, 6, 8, 9)\n",
      "8\n"
     ]
    }
   ],
   "source": [
    "T8 = (1,2,3,4,5,6,8,9)\n",
    "print(T8)\n",
    "print(len(T8))"
   ]
  },
  {
   "cell_type": "markdown",
   "id": "03280893-41e3-44fd-bd64-0c45e1d6a680",
   "metadata": {},
   "source": [
    "## Equal "
   ]
  },
  {
   "cell_type": "markdown",
   "id": "dfd110e8-ac36-4e1e-8820-3f0ed43bab46",
   "metadata": {},
   "source": [
    "* The equal function is used to compare the tuple\n"
   ]
  },
  {
   "cell_type": "code",
   "execution_count": 11,
   "id": "242d2ad8-40a6-49b5-b5f0-3510504139db",
   "metadata": {},
   "outputs": [
    {
     "name": "stdout",
     "output_type": "stream",
     "text": [
      "False\n",
      "True\n"
     ]
    }
   ],
   "source": [
    "T3 = ('a')\n",
    "T4 = ('b')\n",
    "T5 = ('a')\n",
    "\n",
    "print(T3==T4)\n",
    "print(T3==T5)"
   ]
  },
  {
   "cell_type": "code",
   "execution_count": null,
   "id": "e03f3c68-859a-4428-9cfa-a6d475935fbc",
   "metadata": {},
   "outputs": [],
   "source": []
  }
 ],
 "metadata": {
  "kernelspec": {
   "display_name": "Python 3 (ipykernel)",
   "language": "python",
   "name": "python3"
  },
  "language_info": {
   "codemirror_mode": {
    "name": "ipython",
    "version": 3
   },
   "file_extension": ".py",
   "mimetype": "text/x-python",
   "name": "python",
   "nbconvert_exporter": "python",
   "pygments_lexer": "ipython3",
   "version": "3.11.7"
  }
 },
 "nbformat": 4,
 "nbformat_minor": 5
}
