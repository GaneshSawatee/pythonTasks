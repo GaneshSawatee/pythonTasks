{
 "cells": [
  {
   "cell_type": "markdown",
   "id": "1e12620b-5ada-4d9f-8bf5-50e278cb8e9a",
   "metadata": {},
   "source": [
    "# Dictionary"
   ]
  },
  {
   "cell_type": "markdown",
   "id": "bc2e5748-4b53-4c9f-b560-82c96ad0ccf8",
   "metadata": {},
   "source": [
    "* Dictionaries are used to store data values in key:value pairs"
   ]
  },
  {
   "cell_type": "code",
   "execution_count": 1,
   "id": "0828fa05-176c-4abd-a613-8e7f02078e00",
   "metadata": {},
   "outputs": [
    {
     "name": "stdout",
     "output_type": "stream",
     "text": [
      "{'Dolly': '1234567890', 'Anu': '9876543210', 'Avinash': '21323422222', 'Pooja': '878975457'}\n"
     ]
    }
   ],
   "source": [
    "phoneBook = {\n",
    "    \"Dolly\" : \"1234567890\",\n",
    "    \"Anu\" : \"9876543210\",\n",
    "    \"Avinash\" : \"21323422222\",\n",
    "    \"Pooja\" : \"878975457\"\n",
    "}\n",
    "print(phoneBook)"
   ]
  },
  {
   "cell_type": "code",
   "execution_count": 2,
   "id": "8c957f0e-e64c-47aa-967d-ef67ce12c78b",
   "metadata": {},
   "outputs": [
    {
     "name": "stdout",
     "output_type": "stream",
     "text": [
      "878975457\n"
     ]
    }
   ],
   "source": [
    "phoneBook = {\n",
    "    \"Dolly\" : \"1234567890\",\n",
    "    \"Anu\" : \"9876543210\",\n",
    "    \"Avinash\" : \"21323422222\",\n",
    "    \"Pooja\" : \"878975457\"\n",
    "}\n",
    "print(phoneBook[\"Pooja\"])"
   ]
  },
  {
   "cell_type": "markdown",
   "id": "4a2fa8e3-4044-4652-acea-3d43d2a7b795",
   "metadata": {},
   "source": [
    "## Get()"
   ]
  },
  {
   "cell_type": "code",
   "execution_count": 3,
   "id": "b2f9bd5f-fe2d-4a86-9ee8-201dedd3f4ad",
   "metadata": {},
   "outputs": [
    {
     "name": "stdout",
     "output_type": "stream",
     "text": [
      "21323422222\n"
     ]
    }
   ],
   "source": [
    "phoneBook = {\n",
    "    \"Dolly\" : \"1234567890\",\n",
    "    \"Anu\" : \"9876543210\",\n",
    "    \"Avinash\" : \"21323422222\",\n",
    "    \"Pooja\" : \"878975457\"\n",
    "}\n",
    "print(phoneBook.get(\"Avinash\"))"
   ]
  },
  {
   "cell_type": "markdown",
   "id": "1ce8ea47-eb38-4a09-8f90-04f1b8a0e938",
   "metadata": {},
   "source": [
    "## Adding New Key"
   ]
  },
  {
   "cell_type": "code",
   "execution_count": 4,
   "id": "f9164cc7-7ba3-4f8e-822e-08729099cdbe",
   "metadata": {},
   "outputs": [
    {
     "name": "stdout",
     "output_type": "stream",
     "text": [
      "{'C': '499', 'C++': '499', 'Python': '499', 'DSA': '999', 'ICP': '999', 'ICGP': '10,000'}\n",
      "{'C': '499', 'C++': '499', 'Python': '499', 'DSA': '999', 'ICP': '999', 'ICGP': '10,000', 'Java': '499'}\n"
     ]
    }
   ],
   "source": [
    "courses ={\n",
    "    \"C\" :\"499\",\n",
    "    \"C++\" :\"499\",\n",
    "    \"Python\" :\"499\",\n",
    "    \"DSA\" :\"999\",\n",
    "    \"ICP\" :\"999\",\n",
    "    \"ICGP\" :\"10,000\"\n",
    "}\n",
    "print(courses)\n",
    "courses[\"Java\"] = \"499\"\n",
    "print(courses)"
   ]
  },
  {
   "cell_type": "markdown",
   "id": "a3e1909d-1de6-48a7-9331-ac7de9905b64",
   "metadata": {},
   "source": [
    "## Update Key "
   ]
  },
  {
   "cell_type": "code",
   "execution_count": 5,
   "id": "0b0bc798-1aca-4db3-8d15-f333769f19ff",
   "metadata": {},
   "outputs": [
    {
     "name": "stdout",
     "output_type": "stream",
     "text": [
      "{'C': '499', 'C++': '499', 'Python': '499', 'DSA': '999', 'ICP': '999', 'ICGP': '10,000'}\n",
      "{'C': '499', 'C++': '499', 'Python': '999', 'DSA': '999', 'ICP': '999', 'ICGP': '10,000'}\n"
     ]
    }
   ],
   "source": [
    "courses ={\n",
    "    \"C\" :\"499\",\n",
    "    \"C++\" :\"499\",\n",
    "    \"Python\" :\"499\",\n",
    "    \"DSA\" :\"999\",\n",
    "    \"ICP\" :\"999\",\n",
    "    \"ICGP\" :\"10,000\"\n",
    "}\n",
    "print(courses)\n",
    "courses[\"Python\"] = \"999\"\n",
    "print(courses)"
   ]
  },
  {
   "cell_type": "markdown",
   "id": "15efb2e5-cc2d-47ec-a814-affcf20e2454",
   "metadata": {},
   "source": [
    "## Remove key "
   ]
  },
  {
   "cell_type": "code",
   "execution_count": 6,
   "id": "10ae5edb-fd05-4bfe-b370-83d4352b3b50",
   "metadata": {},
   "outputs": [
    {
     "name": "stdout",
     "output_type": "stream",
     "text": [
      "{'C': '499', 'C++': '499', 'Python': '499', 'DSA': '999', 'ICP': '999', 'ICGP': '10,000', 'Java': '499'}\n",
      "{'C': '499', 'C++': '499', 'Python': '499', 'DSA': '999', 'ICP': '999', 'ICGP': '10,000'}\n"
     ]
    }
   ],
   "source": [
    "courses ={\n",
    "    \"C\" :\"499\",\n",
    "    \"C++\" :\"499\",\n",
    "    \"Python\" :\"499\",\n",
    "    \"DSA\" :\"999\",\n",
    "    \"ICP\" :\"999\",\n",
    "    \"ICGP\" :\"10,000\",\n",
    "    'Java': '499'\n",
    "}\n",
    "print(courses)\n",
    "courses.pop(\"Java\")\n",
    "print(courses)"
   ]
  },
  {
   "cell_type": "markdown",
   "id": "6127accb-c1aa-4f2f-a5a8-e7d60640dc70",
   "metadata": {},
   "source": [
    "## Clear Dictionary "
   ]
  },
  {
   "cell_type": "code",
   "execution_count": 7,
   "id": "5fe82070-815f-4ec0-8241-7e7deaefe668",
   "metadata": {},
   "outputs": [
    {
     "name": "stdout",
     "output_type": "stream",
     "text": [
      "{'C': '499', 'C++': '499', 'Python': '499', 'DSA': '999', 'ICP': '999', 'ICGP': '10,000', 'Java': '499'}\n",
      "{}\n"
     ]
    }
   ],
   "source": [
    "courses ={\n",
    "    \"C\" :\"499\",\n",
    "    \"C++\" :\"499\",\n",
    "    \"Python\" :\"499\",\n",
    "    \"DSA\" :\"999\",\n",
    "    \"ICP\" :\"999\",\n",
    "    \"ICGP\" :\"10,000\",\n",
    "    'Java': '499'\n",
    "}\n",
    "print(courses)\n",
    "courses.clear()\n",
    "print(courses)"
   ]
  },
  {
   "cell_type": "code",
   "execution_count": null,
   "id": "80df964b-c4d3-46f7-a9c9-7519e4b973b7",
   "metadata": {},
   "outputs": [],
   "source": []
  }
 ],
 "metadata": {
  "kernelspec": {
   "display_name": "Python 3 (ipykernel)",
   "language": "python",
   "name": "python3"
  },
  "language_info": {
   "codemirror_mode": {
    "name": "ipython",
    "version": 3
   },
   "file_extension": ".py",
   "mimetype": "text/x-python",
   "name": "python",
   "nbconvert_exporter": "python",
   "pygments_lexer": "ipython3",
   "version": "3.11.7"
  }
 },
 "nbformat": 4,
 "nbformat_minor": 5
}
